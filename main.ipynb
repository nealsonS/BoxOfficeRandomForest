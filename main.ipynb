{
 "cells": [
  {
   "cell_type": "markdown",
   "id": "d2c9e49d",
   "metadata": {},
   "source": [
    "# First Project 27 September 2022 Nealson Setiawan"
   ]
  },
  {
   "cell_type": "markdown",
   "id": "d89e8847",
   "metadata": {},
   "source": [
    "## Question: What Factors affects box office? Can we use it to predict future box offices?"
   ]
  },
  {
   "cell_type": "markdown",
   "id": "be27f7bf",
   "metadata": {},
   "source": [
    "##### Pre-processing"
   ]
  },
  {
   "cell_type": "code",
   "execution_count": 694,
   "id": "4600a3a1",
   "metadata": {},
   "outputs": [],
   "source": [
    "import pandas as pd\n",
    "import matplotlib.pyplot as plt\n",
    "from sklearn.model_selection import train_test_split\n",
    "import re"
   ]
  },
  {
   "cell_type": "markdown",
   "id": "746f25b1",
   "metadata": {},
   "source": [
    "##### Reading CSV File"
   ]
  },
  {
   "cell_type": "code",
   "execution_count": 695,
   "id": "c322e902",
   "metadata": {},
   "outputs": [
    {
     "data": {
      "text/html": [
       "<div>\n",
       "<style scoped>\n",
       "    .dataframe tbody tr th:only-of-type {\n",
       "        vertical-align: middle;\n",
       "    }\n",
       "\n",
       "    .dataframe tbody tr th {\n",
       "        vertical-align: top;\n",
       "    }\n",
       "\n",
       "    .dataframe thead th {\n",
       "        text-align: right;\n",
       "    }\n",
       "</style>\n",
       "<table border=\"1\" class=\"dataframe\">\n",
       "  <thead>\n",
       "    <tr style=\"text-align: right;\">\n",
       "      <th></th>\n",
       "      <th>Unnamed: 0</th>\n",
       "      <th>name</th>\n",
       "      <th>year</th>\n",
       "      <th>runtime</th>\n",
       "      <th>genre</th>\n",
       "      <th>rating</th>\n",
       "      <th>metascore</th>\n",
       "      <th>timeline</th>\n",
       "      <th>votes</th>\n",
       "      <th>gross</th>\n",
       "    </tr>\n",
       "  </thead>\n",
       "  <tbody>\n",
       "    <tr>\n",
       "      <th>0</th>\n",
       "      <td>0</td>\n",
       "      <td>The Shawshank Redemption</td>\n",
       "      <td>1994</td>\n",
       "      <td>142</td>\n",
       "      <td>Drama</td>\n",
       "      <td>9.3</td>\n",
       "      <td>80.0</td>\n",
       "      <td>Two imprisoned men bond over a number of years...</td>\n",
       "      <td>2,394,059</td>\n",
       "      <td>$28.34M</td>\n",
       "    </tr>\n",
       "    <tr>\n",
       "      <th>1</th>\n",
       "      <td>1</td>\n",
       "      <td>The Godfather</td>\n",
       "      <td>1972</td>\n",
       "      <td>175</td>\n",
       "      <td>Crime, Drama</td>\n",
       "      <td>9.2</td>\n",
       "      <td>100.0</td>\n",
       "      <td>An organized crime dynasty's aging patriarch t...</td>\n",
       "      <td>1,658,439</td>\n",
       "      <td>$134.97M</td>\n",
       "    </tr>\n",
       "    <tr>\n",
       "      <th>2</th>\n",
       "      <td>2</td>\n",
       "      <td>Soorarai Pottru</td>\n",
       "      <td>2020</td>\n",
       "      <td>153</td>\n",
       "      <td>Drama</td>\n",
       "      <td>9.1</td>\n",
       "      <td>NaN</td>\n",
       "      <td>Nedumaaran Rajangam \"Maara\" sets out to make t...</td>\n",
       "      <td>78,266</td>\n",
       "      <td>NaN</td>\n",
       "    </tr>\n",
       "    <tr>\n",
       "      <th>3</th>\n",
       "      <td>3</td>\n",
       "      <td>The Dark Knight</td>\n",
       "      <td>2008</td>\n",
       "      <td>152</td>\n",
       "      <td>Action, Crime, Drama</td>\n",
       "      <td>9.0</td>\n",
       "      <td>84.0</td>\n",
       "      <td>When the menace known as the Joker wreaks havo...</td>\n",
       "      <td>2,355,907</td>\n",
       "      <td>$534.86M</td>\n",
       "    </tr>\n",
       "    <tr>\n",
       "      <th>4</th>\n",
       "      <td>4</td>\n",
       "      <td>The Godfather: Part II</td>\n",
       "      <td>1974</td>\n",
       "      <td>202</td>\n",
       "      <td>Crime, Drama</td>\n",
       "      <td>9.0</td>\n",
       "      <td>90.0</td>\n",
       "      <td>The early life and career of Vito Corleone in ...</td>\n",
       "      <td>1,152,912</td>\n",
       "      <td>$57.30M</td>\n",
       "    </tr>\n",
       "  </tbody>\n",
       "</table>\n",
       "</div>"
      ],
      "text/plain": [
       "   Unnamed: 0                      name  year  runtime                 genre  \\\n",
       "0           0  The Shawshank Redemption  1994      142                 Drama   \n",
       "1           1             The Godfather  1972      175          Crime, Drama   \n",
       "2           2           Soorarai Pottru  2020      153                 Drama   \n",
       "3           3           The Dark Knight  2008      152  Action, Crime, Drama   \n",
       "4           4    The Godfather: Part II  1974      202          Crime, Drama   \n",
       "\n",
       "   rating  metascore                                           timeline  \\\n",
       "0     9.3       80.0  Two imprisoned men bond over a number of years...   \n",
       "1     9.2      100.0  An organized crime dynasty's aging patriarch t...   \n",
       "2     9.1        NaN  Nedumaaran Rajangam \"Maara\" sets out to make t...   \n",
       "3     9.0       84.0  When the menace known as the Joker wreaks havo...   \n",
       "4     9.0       90.0  The early life and career of Vito Corleone in ...   \n",
       "\n",
       "       votes     gross  \n",
       "0  2,394,059   $28.34M  \n",
       "1  1,658,439  $134.97M  \n",
       "2     78,266       NaN  \n",
       "3  2,355,907  $534.86M  \n",
       "4  1,152,912   $57.30M  "
      ]
     },
     "execution_count": 695,
     "metadata": {},
     "output_type": "execute_result"
    }
   ],
   "source": [
    "IMDBdf = pd.read_csv('/Users/nealsonsetiawan/Documents/Education_Files/Jupyter/Datasets/IMDB_movie_reviews_details.csv')\n",
    "\n",
    "IMDBdf.head()\n",
    "#Purely Raw\n",
    "#Gross is the dependent variable"
   ]
  },
  {
   "cell_type": "code",
   "execution_count": 696,
   "id": "2bec08a1",
   "metadata": {},
   "outputs": [
    {
     "data": {
      "text/plain": [
       "(1000, 10)"
      ]
     },
     "execution_count": 696,
     "metadata": {},
     "output_type": "execute_result"
    }
   ],
   "source": [
    "IMDBdf.shape"
   ]
  },
  {
   "cell_type": "code",
   "execution_count": 697,
   "id": "d22072e2",
   "metadata": {},
   "outputs": [
    {
     "data": {
      "text/plain": [
       "Unnamed: 0      int64\n",
       "name           object\n",
       "year           object\n",
       "runtime         int64\n",
       "genre          object\n",
       "rating        float64\n",
       "metascore     float64\n",
       "timeline       object\n",
       "votes          object\n",
       "gross          object\n",
       "dtype: object"
      ]
     },
     "execution_count": 697,
     "metadata": {},
     "output_type": "execute_result"
    }
   ],
   "source": [
    "IMDBdf.dtypes"
   ]
  },
  {
   "cell_type": "code",
   "execution_count": 698,
   "id": "5e339f65",
   "metadata": {},
   "outputs": [
    {
     "data": {
      "text/plain": [
       "Unnamed: 0      0\n",
       "name            0\n",
       "year            0\n",
       "runtime         0\n",
       "genre           0\n",
       "rating          0\n",
       "metascore     159\n",
       "timeline        0\n",
       "votes           0\n",
       "gross         171\n",
       "dtype: int64"
      ]
     },
     "execution_count": 698,
     "metadata": {},
     "output_type": "execute_result"
    }
   ],
   "source": [
    "IMDBdf.isnull().sum()"
   ]
  },
  {
   "cell_type": "markdown",
   "id": "0be472f6",
   "metadata": {},
   "source": [
    "#### Cleaning raw data"
   ]
  },
  {
   "cell_type": "markdown",
   "id": "310575f5",
   "metadata": {},
   "source": [
    "Checklist:\n",
    "<br>\n",
    "1. Are values prone to error? \n",
    "<br>\n",
    "2. Do we have the same unit for the data? \n",
    "<br>\n",
    "3. Is there consistency in the meaning of data?\n",
    "<br>\n",
    "4. Are there missing values in your data and what is the reason and what you can do about it?\n",
    "<br>\n",
    "5. Is the same value recorded in the same way everywhere?\n",
    "<br>\n",
    "6. Are there any duplicates?\n",
    "<br>\n",
    "7. Is your data unbiased?\n",
    "<br>\n",
    "8. Removed all sources of noise from your data?\n",
    "<br>\n",
    "9. Identified and remove sources of data leakage?\n",
    "<br>\n",
    "10. Are there any obvious outliers?\n",
    "<br>\n",
    "\n",
    "I got from https://www.kaggle.com/getting-started/187884.\n"
   ]
  },
  {
   "cell_type": "markdown",
   "id": "6f59879d",
   "metadata": {},
   "source": [
    "### Votes"
   ]
  },
  {
   "cell_type": "markdown",
   "id": "7f84a42a",
   "metadata": {},
   "source": [
    "##### Removing all commas from votes column and casting to integers"
   ]
  },
  {
   "cell_type": "code",
   "execution_count": 699,
   "id": "98dcc64f",
   "metadata": {},
   "outputs": [
    {
     "data": {
      "text/plain": [
       "8"
      ]
     },
     "execution_count": 699,
     "metadata": {},
     "output_type": "execute_result"
    }
   ],
   "source": [
    "IMDBdf.columns.get_loc('votes') #Finding index of 'votes'"
   ]
  },
  {
   "cell_type": "code",
   "execution_count": 700,
   "metadata": {},
   "outputs": [],
   "source": [
    "for i in range(0,len(IMDBdf['votes'])):\n",
    "    IMDBdf.iloc[i,8] = IMDBdf.iloc[i,8].replace(',','') #Removing all commas from votes and casting to integers\n",
    "    #print('success'+str(i))\n",
    "\n",
    "IMDBdf['votes'] = IMDBdf['votes'].fillna(0).astype(int)"
   ]
  },
  {
   "cell_type": "markdown",
   "id": "8ef86dfe",
   "metadata": {},
   "source": [
    "### Gross"
   ]
  },
  {
   "cell_type": "markdown",
   "id": "bf444317",
   "metadata": {},
   "source": [
    "##### Turning Gross into countable integers"
   ]
  },
  {
   "cell_type": "code",
   "execution_count": 701,
   "id": "7ca8868f",
   "metadata": {},
   "outputs": [
    {
     "data": {
      "text/plain": [
       "9"
      ]
     },
     "execution_count": 701,
     "metadata": {},
     "output_type": "execute_result"
    }
   ],
   "source": [
    "IMDBdf.columns.get_loc('gross') #Finding index of 'gross'"
   ]
  },
  {
   "cell_type": "code",
   "execution_count": 702,
   "id": "147923cc",
   "metadata": {},
   "outputs": [],
   "source": [
    "for i in range(0,len(IMDBdf['gross'])):\n",
    "        if isinstance(IMDBdf.iloc[i,9],str):\n",
    "            IMDBdf.iloc[i,9] = IMDBdf.iloc[i,9].replace('$','') #Removing all $\n",
    "            IMDBdf.iloc[i,9] = IMDBdf.iloc[i,9].replace('M','') #Removing all M\n",
    "        #print('success'+str(i))\n",
    "\n",
    "\n",
    "\n",
    "\n",
    "\n",
    "IMDBdf['gross'] = IMDBdf['gross'].fillna(0).astype(float) #Casting to float"
   ]
  },
  {
   "cell_type": "markdown",
   "id": "35fc7bfd",
   "metadata": {},
   "source": [
    "### Timeline"
   ]
  },
  {
   "cell_type": "markdown",
   "id": "c875e3b6",
   "metadata": {},
   "source": [
    "##### Dropping Timeline because I am not versed with NLP yet!"
   ]
  },
  {
   "cell_type": "code",
   "execution_count": 703,
   "id": "06975afa",
   "metadata": {},
   "outputs": [],
   "source": [
    "IMDBdf = IMDBdf.drop('timeline', axis=1)"
   ]
  },
  {
   "cell_type": "markdown",
   "id": "580b71e4",
   "metadata": {},
   "source": [
    "### Metascore"
   ]
  },
  {
   "cell_type": "markdown",
   "id": "0bdd4033",
   "metadata": {},
   "source": [
    "##### Casting to Int"
   ]
  },
  {
   "cell_type": "code",
   "execution_count": 704,
   "id": "a7bcd2ef",
   "metadata": {},
   "outputs": [],
   "source": [
    "IMDBdf['metascore'] = IMDBdf['metascore'].fillna(0).astype(float)"
   ]
  },
  {
   "cell_type": "markdown",
   "id": "b7f53cbd",
   "metadata": {},
   "source": [
    "### Rating"
   ]
  },
  {
   "cell_type": "code",
   "execution_count": 705,
   "id": "190ad90b",
   "metadata": {},
   "outputs": [],
   "source": [
    "IMDBdf['rating'] = IMDBdf['rating'].fillna(0).astype(float)"
   ]
  },
  {
   "cell_type": "markdown",
   "id": "fb94cc5a",
   "metadata": {},
   "source": [
    "### Genre"
   ]
  },
  {
   "cell_type": "code",
   "execution_count": null,
   "id": "8cde94ad",
   "metadata": {},
   "outputs": [],
   "source": []
  },
  {
   "cell_type": "markdown",
   "id": "da8f5847",
   "metadata": {},
   "source": [
    "### Runtime"
   ]
  },
  {
   "cell_type": "code",
   "execution_count": 706,
   "id": "8c9c7406",
   "metadata": {},
   "outputs": [],
   "source": [
    "IMDBdf['runtime'] = IMDBdf['runtime'].fillna(0).astype(int)"
   ]
  },
  {
   "cell_type": "markdown",
   "id": "6c446411",
   "metadata": {},
   "source": [
    "### Year"
   ]
  },
  {
   "cell_type": "markdown",
   "id": "3859d554",
   "metadata": {},
   "source": [
    "##### Extract only numbers from year and turn to Numeric"
   ]
  },
  {
   "cell_type": "code",
   "execution_count": 707,
   "id": "940f668c",
   "metadata": {},
   "outputs": [],
   "source": [
    "numPattern = '(\\d+)'\n",
    "IMDBdf['yearNumber'] = IMDBdf['year'].astype('str').str.extractall('(\\d+)').unstack().fillna('').sum(axis=1).astype(int)\n",
    "\n",
    "#From https://www.pauldesalvo.com/how-to-extract-all-numbers-from-a-string-column-in-python-pandas/"
   ]
  },
  {
   "cell_type": "markdown",
   "id": "0ab6b393",
   "metadata": {},
   "source": [
    "### Removing Dupes"
   ]
  },
  {
   "cell_type": "code",
   "execution_count": 708,
   "id": "bd429c84",
   "metadata": {},
   "outputs": [],
   "source": [
    "IMDBdf['dupe'] = IMDBdf.duplicated()"
   ]
  },
  {
   "cell_type": "code",
   "execution_count": 709,
   "id": "571cf137",
   "metadata": {},
   "outputs": [
    {
     "data": {
      "text/html": [
       "<div>\n",
       "<style scoped>\n",
       "    .dataframe tbody tr th:only-of-type {\n",
       "        vertical-align: middle;\n",
       "    }\n",
       "\n",
       "    .dataframe tbody tr th {\n",
       "        vertical-align: top;\n",
       "    }\n",
       "\n",
       "    .dataframe thead th {\n",
       "        text-align: right;\n",
       "    }\n",
       "</style>\n",
       "<table border=\"1\" class=\"dataframe\">\n",
       "  <thead>\n",
       "    <tr style=\"text-align: right;\">\n",
       "      <th></th>\n",
       "      <th>Unnamed: 0</th>\n",
       "      <th>name</th>\n",
       "      <th>year</th>\n",
       "      <th>runtime</th>\n",
       "      <th>genre</th>\n",
       "      <th>rating</th>\n",
       "      <th>metascore</th>\n",
       "      <th>votes</th>\n",
       "      <th>gross</th>\n",
       "      <th>yearNumber</th>\n",
       "      <th>dupe</th>\n",
       "    </tr>\n",
       "  </thead>\n",
       "  <tbody>\n",
       "  </tbody>\n",
       "</table>\n",
       "</div>"
      ],
      "text/plain": [
       "Empty DataFrame\n",
       "Columns: [Unnamed: 0, name, year, runtime, genre, rating, metascore, votes, gross, yearNumber, dupe]\n",
       "Index: []"
      ]
     },
     "execution_count": 709,
     "metadata": {},
     "output_type": "execute_result"
    }
   ],
   "source": [
    "IMDBdf.loc[IMDBdf['dupe'] == True] #None!"
   ]
  },
  {
   "cell_type": "markdown",
   "id": "cda09e97",
   "metadata": {},
   "source": [
    "#### Plotting Null"
   ]
  },
  {
   "cell_type": "code",
   "execution_count": 710,
   "id": "a1b5cb36",
   "metadata": {},
   "outputs": [],
   "source": [
    "dfNull = IMDBdf.where(IMDBdf.isnull())\n",
    "\n",
    "\n"
   ]
  },
  {
   "cell_type": "code",
   "execution_count": 711,
   "id": "29a4b7a7",
   "metadata": {},
   "outputs": [
    {
     "data": {
      "text/plain": [
       "<matplotlib.collections.PathCollection at 0x7fe89aad9b20>"
      ]
     },
     "execution_count": 711,
     "metadata": {},
     "output_type": "execute_result"
    },
    {
     "data": {
      "image/png": "[encoded data removed]",
      "text/plain": [
       "<Figure size 432x288 with 1 Axes>"
      ]
     },
     "metadata": {
      "needs_background": "light"
     },
     "output_type": "display_data"
    }
   ],
   "source": [
    "plt.scatter(x=IMDBdf['yearNumber'], y=IMDBdf['gross'])"
   ]
  }
 ],
 "metadata": {
  "interpreter": {
   "hash": "aee8b7b246df8f9039afb4144a1f6fd8d2ca17a180786b69acc140d282b71a49"
  },
  "kernelspec": {
   "display_name": "Python 3.9.7 64-bit",
   "language": "python",
   "name": "python3"
  },
  "language_info": {
   "codemirror_mode": {
    "name": "ipython",
    "version": 3
   },
   "file_extension": ".py",
   "mimetype": "text/x-python",
   "name": "python",
   "nbconvert_exporter": "python",
   "pygments_lexer": "ipython3",
   "version": "3.9.7"
  }
 },
 "nbformat": 4,
 "nbformat_minor": 5
}
